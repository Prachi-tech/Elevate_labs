{
 "cells": [
  {
   "cell_type": "markdown",
   "id": "e23d28bf-4968-4312-9ec5-b95aa2176808",
   "metadata": {},
   "source": [
    " Task 1: Data Cleaning & Preprocessing\n",
    "    * Objective: Learn how to clean and prepare raw data for ML.\n",
    "    * Tools: Python, Pandas, NumPy, Matplotlib/Seaborn"
   ]
  },
  {
   "cell_type": "code",
   "execution_count": 1,
   "id": "8bc265ea-7ee3-4a15-a136-bb0a819821a9",
   "metadata": {},
   "outputs": [],
   "source": [
    "# import pandas numpy matplotlib \n",
    "import pandas as pd\n",
    "import matplotlib.pyplot as plt \n",
    "import numpy as np\n",
    "import seaborn as sns\n",
    "from sklearn.preprocessing import StandardScaler\n",
    "\n"
   ]
  },
  {
   "cell_type": "code",
   "execution_count": 2,
   "id": "2f639af9-801a-49e6-8e06-7d30beade248",
   "metadata": {},
   "outputs": [],
   "source": [
    "# load csv file into dat a frame\n",
    "data_file = pd.read_csv('C:\\\\Users\\\\prach\\\\Downloads\\\\Titanic-Dataset.csv')"
   ]
  },
  {
   "cell_type": "code",
   "execution_count": 3,
   "id": "b9ae8c8f-562c-4323-a230-9b25fd5414f8",
   "metadata": {},
   "outputs": [
    {
     "name": "stdout",
     "output_type": "stream",
     "text": [
      "<class 'pandas.core.frame.DataFrame'>\n",
      "RangeIndex: 891 entries, 0 to 890\n",
      "Data columns (total 12 columns):\n",
      " #   Column       Non-Null Count  Dtype  \n",
      "---  ------       --------------  -----  \n",
      " 0   PassengerId  891 non-null    int64  \n",
      " 1   Survived     891 non-null    int64  \n",
      " 2   Pclass       891 non-null    int64  \n",
      " 3   Name         891 non-null    object \n",
      " 4   Sex          891 non-null    object \n",
      " 5   Age          714 non-null    float64\n",
      " 6   SibSp        891 non-null    int64  \n",
      " 7   Parch        891 non-null    int64  \n",
      " 8   Ticket       891 non-null    object \n",
      " 9   Fare         891 non-null    float64\n",
      " 10  Cabin        204 non-null    object \n",
      " 11  Embarked     889 non-null    object \n",
      "dtypes: float64(2), int64(5), object(5)\n",
      "memory usage: 83.7+ KB\n"
     ]
    },
    {
     "data": {
      "text/html": [
       "<div>\n",
       "<style scoped>\n",
       "    .dataframe tbody tr th:only-of-type {\n",
       "        vertical-align: middle;\n",
       "    }\n",
       "\n",
       "    .dataframe tbody tr th {\n",
       "        vertical-align: top;\n",
       "    }\n",
       "\n",
       "    .dataframe thead th {\n",
       "        text-align: right;\n",
       "    }\n",
       "</style>\n",
       "<table border=\"1\" class=\"dataframe\">\n",
       "  <thead>\n",
       "    <tr style=\"text-align: right;\">\n",
       "      <th></th>\n",
       "      <th>PassengerId</th>\n",
       "      <th>Survived</th>\n",
       "      <th>Pclass</th>\n",
       "      <th>Age</th>\n",
       "      <th>SibSp</th>\n",
       "      <th>Parch</th>\n",
       "      <th>Fare</th>\n",
       "    </tr>\n",
       "  </thead>\n",
       "  <tbody>\n",
       "    <tr>\n",
       "      <th>count</th>\n",
       "      <td>891.000000</td>\n",
       "      <td>891.000000</td>\n",
       "      <td>891.000000</td>\n",
       "      <td>714.000000</td>\n",
       "      <td>891.000000</td>\n",
       "      <td>891.000000</td>\n",
       "      <td>891.000000</td>\n",
       "    </tr>\n",
       "    <tr>\n",
       "      <th>mean</th>\n",
       "      <td>446.000000</td>\n",
       "      <td>0.383838</td>\n",
       "      <td>2.308642</td>\n",
       "      <td>29.699118</td>\n",
       "      <td>0.523008</td>\n",
       "      <td>0.381594</td>\n",
       "      <td>32.204208</td>\n",
       "    </tr>\n",
       "    <tr>\n",
       "      <th>std</th>\n",
       "      <td>257.353842</td>\n",
       "      <td>0.486592</td>\n",
       "      <td>0.836071</td>\n",
       "      <td>14.526497</td>\n",
       "      <td>1.102743</td>\n",
       "      <td>0.806057</td>\n",
       "      <td>49.693429</td>\n",
       "    </tr>\n",
       "    <tr>\n",
       "      <th>min</th>\n",
       "      <td>1.000000</td>\n",
       "      <td>0.000000</td>\n",
       "      <td>1.000000</td>\n",
       "      <td>0.420000</td>\n",
       "      <td>0.000000</td>\n",
       "      <td>0.000000</td>\n",
       "      <td>0.000000</td>\n",
       "    </tr>\n",
       "    <tr>\n",
       "      <th>25%</th>\n",
       "      <td>223.500000</td>\n",
       "      <td>0.000000</td>\n",
       "      <td>2.000000</td>\n",
       "      <td>20.125000</td>\n",
       "      <td>0.000000</td>\n",
       "      <td>0.000000</td>\n",
       "      <td>7.910400</td>\n",
       "    </tr>\n",
       "    <tr>\n",
       "      <th>50%</th>\n",
       "      <td>446.000000</td>\n",
       "      <td>0.000000</td>\n",
       "      <td>3.000000</td>\n",
       "      <td>28.000000</td>\n",
       "      <td>0.000000</td>\n",
       "      <td>0.000000</td>\n",
       "      <td>14.454200</td>\n",
       "    </tr>\n",
       "    <tr>\n",
       "      <th>75%</th>\n",
       "      <td>668.500000</td>\n",
       "      <td>1.000000</td>\n",
       "      <td>3.000000</td>\n",
       "      <td>38.000000</td>\n",
       "      <td>1.000000</td>\n",
       "      <td>0.000000</td>\n",
       "      <td>31.000000</td>\n",
       "    </tr>\n",
       "    <tr>\n",
       "      <th>max</th>\n",
       "      <td>891.000000</td>\n",
       "      <td>1.000000</td>\n",
       "      <td>3.000000</td>\n",
       "      <td>80.000000</td>\n",
       "      <td>8.000000</td>\n",
       "      <td>6.000000</td>\n",
       "      <td>512.329200</td>\n",
       "    </tr>\n",
       "  </tbody>\n",
       "</table>\n",
       "</div>"
      ],
      "text/plain": [
       "       PassengerId    Survived      Pclass         Age       SibSp  \\\n",
       "count   891.000000  891.000000  891.000000  714.000000  891.000000   \n",
       "mean    446.000000    0.383838    2.308642   29.699118    0.523008   \n",
       "std     257.353842    0.486592    0.836071   14.526497    1.102743   \n",
       "min       1.000000    0.000000    1.000000    0.420000    0.000000   \n",
       "25%     223.500000    0.000000    2.000000   20.125000    0.000000   \n",
       "50%     446.000000    0.000000    3.000000   28.000000    0.000000   \n",
       "75%     668.500000    1.000000    3.000000   38.000000    1.000000   \n",
       "max     891.000000    1.000000    3.000000   80.000000    8.000000   \n",
       "\n",
       "            Parch        Fare  \n",
       "count  891.000000  891.000000  \n",
       "mean     0.381594   32.204208  \n",
       "std      0.806057   49.693429  \n",
       "min      0.000000    0.000000  \n",
       "25%      0.000000    7.910400  \n",
       "50%      0.000000   14.454200  \n",
       "75%      0.000000   31.000000  \n",
       "max      6.000000  512.329200  "
      ]
     },
     "execution_count": 3,
     "metadata": {},
     "output_type": "execute_result"
    }
   ],
   "source": [
    "data_file.head()   # see the first few rows \n",
    "data_file.info()   # checks the columns and data types \n",
    "data_file.describe() # get starts about numberical data"
   ]
  },
  {
   "cell_type": "code",
   "execution_count": 4,
   "id": "131932ad-b2cf-4092-801b-3eed31b1aa17",
   "metadata": {},
   "outputs": [
    {
     "data": {
      "text/plain": [
       "PassengerId      0\n",
       "Survived         0\n",
       "Pclass           0\n",
       "Name             0\n",
       "Sex              0\n",
       "Age            177\n",
       "SibSp            0\n",
       "Parch            0\n",
       "Ticket           0\n",
       "Fare             0\n",
       "Cabin          687\n",
       "Embarked         2\n",
       "dtype: int64"
      ]
     },
     "execution_count": 4,
     "metadata": {},
     "output_type": "execute_result"
    }
   ],
   "source": [
    "#Typical missing data in Titanic:\n",
    "#Age: some passengers don’t have age info\n",
    "#Cabin: many missing values\n",
    "#Embarked: a few missing\n",
    "\n",
    "data_file.isnull().sum()  # check for missing values "
   ]
  },
  {
   "cell_type": "code",
   "execution_count": 94,
   "id": "dcb7274d-f568-4f72-b5c9-fd6334effdeb",
   "metadata": {},
   "outputs": [],
   "source": [
    "data_file['Age'] = data_file['Age'].fillna(data_file['Age'].median()) \n",
    "#Age (numerical): Fill with median or mean\n",
    "if data_file['Embarked'].dtype =='0':\n",
    "    embarked_mode = data_file['Embarked'].mode()\n",
    "    if not embarked_mode.empty:\n",
    "        data_file['Embarked'] = data_file['Embarked'].fillna(embarked_mode[0])\n",
    "    else:\n",
    "        print(\"Warning: 'Embarked' has no model\")\n",
    "\n",
    "\n",
    "#Embarked (categorical): Fill with mode"
   ]
  },
  {
   "cell_type": "code",
   "execution_count": 95,
   "id": "f135145f-d9a4-499a-ae16-da4e913a0687",
   "metadata": {},
   "outputs": [],
   "source": [
    "#cabin : too many missing may be drop the column\n",
    "if 'Cabin' in data_file.columns:   ## Drop 'Cabin' if it exists\n",
    "    data_file = data_file.drop('Cabin', axis=1)\n"
   ]
  },
  {
   "cell_type": "code",
   "execution_count": 102,
   "id": "757cf774-0661-4cfa-abea-7bcbd46b3d5c",
   "metadata": {},
   "outputs": [],
   "source": [
    "# convert categorial to numbers \n",
    "if 'Sex' in data_file.columns:\n",
    "    data_file['sex'] =data_file['Sex'].map({'male':0, 'female':1})  #create a new column \n",
    "    data_file.drop('Sex', axis=1, inplace=True)\n",
    "\n",
    "if data_file['Embarked'].isnull().all():\n",
    "    data_file.drop('Embarked', axis=1, inplace=True)\n",
    "\n",
    "if 'Embarked' in data_file.columns:\n",
    "    if data_file['Embarked'].isnull().any():\n",
    "        mode_value = data_file['Embarked'].mode()\n",
    "        if not mode_value.empty:\n",
    "            data_file['Embarked'] = data_file['Embarked'].fillna(mode_value[0])\n",
    "    data_file['Embarked'] = data_file['Embarked'].map({'S': 0, 'C': 1, 'Q': 2})\n",
    "    \n",
    "# if 'Embarked' in data_file.columns:\n",
    "#     data_file['Embarked'] = data_file['Embarked'].fillna(data_file['Embarked'].mode()[0])\n",
    "#     data_file['Embarked'] = data_file['Embarked'].map({'S':0, 'C' :1, 'Q':2})\n"
   ]
  },
  {
   "cell_type": "code",
   "execution_count": 103,
   "id": "afdd8472-7654-412a-ab3f-d64ae6b7f098",
   "metadata": {},
   "outputs": [],
   "source": [
    "# drop the unnecessary column\n",
    "# Drop only the columns that exist\n",
    "columns_to_drop = ['Cabin', 'Name', 'Ticket', 'PassengerId', 'sex']\n",
    "existing_cols = [col for col in columns_to_drop if col in data_file.columns]\n",
    "data_file.drop(existing_cols, axis=1, inplace=True)\n",
    "\n",
    "# data_file.drop(['Cabin','sex','Name', 'Ticket', 'PassengerId'], axis=1, inplace=True)"
   ]
  },
  {
   "cell_type": "code",
   "execution_count": 104,
   "id": "9d4d92d5-1532-4b6d-ac40-4697cd7de7e8",
   "metadata": {},
   "outputs": [],
   "source": [
    "# 5. Scale Age and Fare\n",
    "scaler = StandardScaler()\n",
    "data_file[['Age', 'Fare']] = scaler.fit_transform(data_file[['Age', 'Fare']])"
   ]
  },
  {
   "cell_type": "code",
   "execution_count": 105,
   "id": "806a6991-27e1-432c-81f7-340d2db11dd3",
   "metadata": {},
   "outputs": [
    {
     "data": {
      "image/png": "[encoded data removed]",
      "text/plain": [
       "<Figure size 640x480 with 1 Axes>"
      ]
     },
     "metadata": {},
     "output_type": "display_data"
    },
    {
     "data": {
      "image/png": "[encoded data removed]",
      "text/plain": [
       "<Figure size 640x480 with 1 Axes>"
      ]
     },
     "metadata": {},
     "output_type": "display_data"
    }
   ],
   "source": [
    "\n",
    "# Visualise  for better understanding \n",
    "# lets plot who survied and how  age, sex, or class affected survival.\n",
    "sns.countplot(x='Survived', data=data_file)\n",
    "plt.show()\n",
    "\n",
    "sns.boxplot(x='Pclass', y='Age', data = data_file)\n",
    "plt.show()"
   ]
  },
  {
   "cell_type": "code",
   "execution_count": 106,
   "id": "e99f0120-980e-4366-aff8-9edb941b7a08",
   "metadata": {},
   "outputs": [],
   "source": [
    "\n",
    "# scaler = StandardScaler()\n",
    "# data_file[['Age', 'Fare']] = scaler.fit_transform(data_file[['Age', 'Fare']])\n"
   ]
  },
  {
   "cell_type": "code",
   "execution_count": 107,
   "id": "59443a4d-6b81-4eba-a787-654a2062dd7a",
   "metadata": {},
   "outputs": [
    {
     "name": "stdout",
     "output_type": "stream",
     "text": [
      "   Survived  Pclass       Age  SibSp  Parch      Fare\n",
      "0         0       3 -0.565736      1      0 -0.502445\n",
      "1         1       1  0.663861      1      0  0.786845\n",
      "2         1       3 -0.258337      0      0 -0.488854\n",
      "3         1       1  0.433312      1      0  0.420730\n",
      "4         0       3  0.433312      0      0 -0.486337\n",
      "<class 'pandas.core.frame.DataFrame'>\n",
      "RangeIndex: 891 entries, 0 to 890\n",
      "Data columns (total 6 columns):\n",
      " #   Column    Non-Null Count  Dtype  \n",
      "---  ------    --------------  -----  \n",
      " 0   Survived  891 non-null    int64  \n",
      " 1   Pclass    891 non-null    int64  \n",
      " 2   Age       891 non-null    float64\n",
      " 3   SibSp     891 non-null    int64  \n",
      " 4   Parch     891 non-null    int64  \n",
      " 5   Fare      891 non-null    float64\n",
      "dtypes: float64(2), int64(4)\n",
      "memory usage: 41.9 KB\n",
      "None\n"
     ]
    }
   ],
   "source": [
    "# final check \n",
    "print(data_file.head())\n",
    "print(data_file.info())"
   ]
  },
  {
   "cell_type": "code",
   "execution_count": null,
   "id": "7aa24fc2-b271-4866-b215-04c60031e111",
   "metadata": {},
   "outputs": [],
   "source": [
    "# ✅ Result:\n",
    "# All columns are numeric ✅\n",
    "# No NaN values ✅\n",
    "# Data is ready for ML models ✅"
   ]
  },
  {
   "cell_type": "code",
   "execution_count": null,
   "id": "f7017958-0535-4fc3-8641-808f8e5400b2",
   "metadata": {},
   "outputs": [],
   "source": []
  },
  {
   "cell_type": "code",
   "execution_count": null,
   "id": "40f9da06-e50b-4075-959f-09609822c435",
   "metadata": {},
   "outputs": [],
   "source": []
  },
  {
   "cell_type": "code",
   "execution_count": null,
   "id": "b94d5bea-efac-424e-9716-2cf4fa2d5a45",
   "metadata": {},
   "outputs": [],
   "source": []
  }
 ],
 "metadata": {
  "kernelspec": {
   "display_name": "Python 3 (ipykernel)",
   "language": "python",
   "name": "python3"
  },
  "language_info": {
   "codemirror_mode": {
    "name": "ipython",
    "version": 3
   },
   "file_extension": ".py",
   "mimetype": "text/x-python",
   "name": "python",
   "nbconvert_exporter": "python",
   "pygments_lexer": "ipython3",
   "version": "3.12.4"
  }
 },
 "nbformat": 4,
 "nbformat_minor": 5
}
